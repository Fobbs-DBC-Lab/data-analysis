{
 "cells": [
  {
   "cell_type": "markdown",
   "metadata": {},
   "source": [
    "# Data Analysis Test Playground"
   ]
  },
  {
   "cell_type": "markdown",
   "metadata": {},
   "source": [
    "## Import Libraries"
   ]
  },
  {
   "cell_type": "code",
   "execution_count": 1,
   "metadata": {},
   "outputs": [
    {
     "name": "stdout",
     "output_type": "stream",
     "text": [
      "You are running pandas version: 2.2.3\n",
      "You are running numpy version: 2.0.2\n"
     ]
    }
   ],
   "source": [
    "import pandas as pd\n",
    "import numpy as np\n",
    "from datetime import datetime as dt\n",
    "import os\n",
    "import seaborn as sns\n",
    "import matplotlib.pyplot as plt\n",
    "from datetime import datetime\n",
    "import glob\n",
    "\n",
    "pd.set_option('display.max_rows', None)\n",
    "\n",
    "# This requires Python 3.7 and above\n",
    "print('You are running pandas version:', pd.__version__)\n",
    "print('You are running numpy version:', np.__version__)\n"
   ]
  },
  {
   "cell_type": "markdown",
   "metadata": {},
   "source": [
    "## File Helping Functions"
   ]
  },
  {
   "cell_type": "code",
   "execution_count": null,
   "metadata": {},
   "outputs": [],
   "source": [
    "def read_csv_files(file_path):\n",
    "    \"\"\"\n",
    "    Reads CSV files and organizes them into a single dataframe with file categories\n",
    "    \"\"\"\n",
    "    all_dataframes = []\n",
    "    file_counter = 1  # Initialize counter for file categories\n",
    "\n",
    "    # for all files in folder\n",
    "    for file in os.listdir(file_path):\n",
    "        if file.endswith(\".CSV\"):\n",
    "            if file.startswith(\"FED\"):\n",
    "                # read that file into a dataframe\n",
    "                file_path_df = os.path.join(file_path, file)\n",
    "                df = pd.read_csv(file_path_df)\n",
    "\n",
    "                # Add file category column\n",
    "                df[\"file_num\"] = file_counter\n",
    "                file_counter += 1\n",
    "\n",
    "                all_dataframes.append(df)\n",
    "\n",
    "    # create a single dataframe from all files\n",
    "    singular_df = pd.concat(all_dataframes)\n",
    "    pd.to_datetime(singular_df[\"MM:DD:YYYY hh:mm:ss\"])\n",
    "    # singular_df = singular_df.sort_values(by=['MM:DD:YYYY hh:mm:ss'], ascending=True)\n",
    "    return singular_df"
   ]
  }
 ],
 "metadata": {
  "kernelspec": {
   "display_name": "venv",
   "language": "python",
   "name": "python3"
  },
  "language_info": {
   "codemirror_mode": {
    "name": "ipython",
    "version": 3
   },
   "file_extension": ".py",
   "mimetype": "text/x-python",
   "name": "python",
   "nbconvert_exporter": "python",
   "pygments_lexer": "ipython3",
   "version": "3.9.6"
  }
 },
 "nbformat": 4,
 "nbformat_minor": 2
}
